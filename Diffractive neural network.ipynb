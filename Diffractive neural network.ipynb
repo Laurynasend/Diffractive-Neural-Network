{
 "cells": [
  {
   "cell_type": "code",
   "execution_count": 76,
   "metadata": {},
   "outputs": [
    {
     "name": "stdout",
     "output_type": "stream",
     "text": [
      "Requirement already satisfied: diffractsim in c:\\users\\laurynas\\anaconda3\\lib\\site-packages (2.1.0)\n",
      "Requirement already satisfied: numpy in c:\\users\\laurynas\\anaconda3\\lib\\site-packages (from diffractsim) (1.19.5)\n",
      "Requirement already satisfied: matplotlib in c:\\users\\laurynas\\anaconda3\\lib\\site-packages (from diffractsim) (3.2.2)\n",
      "Requirement already satisfied: progressbar in c:\\users\\laurynas\\anaconda3\\lib\\site-packages (from diffractsim) (2.5)\n",
      "Requirement already satisfied: scipy in c:\\users\\laurynas\\anaconda3\\lib\\site-packages (from diffractsim) (1.5.0)\n",
      "Requirement already satisfied: Pillow in c:\\users\\laurynas\\anaconda3\\lib\\site-packages (from diffractsim) (7.2.0)\n",
      "Requirement already satisfied: pyparsing!=2.0.4,!=2.1.2,!=2.1.6,>=2.0.1 in c:\\users\\laurynas\\anaconda3\\lib\\site-packages (from matplotlib->diffractsim) (2.4.7)\n",
      "Requirement already satisfied: kiwisolver>=1.0.1 in c:\\users\\laurynas\\anaconda3\\lib\\site-packages (from matplotlib->diffractsim) (1.2.0)\n",
      "Requirement already satisfied: cycler>=0.10 in c:\\users\\laurynas\\anaconda3\\lib\\site-packages (from matplotlib->diffractsim) (0.10.0)\n",
      "Requirement already satisfied: python-dateutil>=2.1 in c:\\users\\laurynas\\anaconda3\\lib\\site-packages (from matplotlib->diffractsim) (2.8.1)\n",
      "Requirement already satisfied: six in c:\\users\\laurynas\\anaconda3\\lib\\site-packages (from cycler>=0.10->matplotlib->diffractsim) (1.15.0)\n"
     ]
    }
   ],
   "source": [
    "!pip install diffractsim\n",
    "from diffractsim import MonochromaticField, mm, nm, cm"
   ]
  },
  {
   "cell_type": "code",
   "execution_count": 44,
   "metadata": {
    "id": "A6nUo0EsQyK4"
   },
   "outputs": [],
   "source": [
    "import diffractsim\n",
    "import os\n",
    "import math\n",
    "import numpy as np\n",
    "import cv2\n",
    "import open3d as o3d\n",
    "\n",
    "from keras.datasets import mnist  \n",
    "import tensorflow as tf\n",
    "import skimage.transform\n",
    "\n",
    "import matplotlib.pyplot as plt\n",
    "import seaborn as sn\n",
    "from tqdm import tqdm"
   ]
  },
  {
   "cell_type": "markdown",
   "metadata": {
    "id": "JidqxeemRqrw"
   },
   "source": [
    "## Data manipulation"
   ]
  },
  {
   "cell_type": "code",
   "execution_count": 46,
   "metadata": {
    "id": "tO_w0o1aQydp"
   },
   "outputs": [],
   "source": [
    "# TODO Need to convert labels. Indicating position of correct pixel by ones (all other values would be zeros) in array of shape (34, 34) in this case\n",
    "def data_propogate(X, wavelength, x, y, Nx, Ny, distance):\n",
    "\n",
    "    def add_slit(F, t):\n",
    "        F.E = F.E*t\n",
    "        F.I = np.real(F.E * np.conjugate(F.E)) \n",
    "\n",
    "    E = []\n",
    "    for slit in X:\n",
    "        F = MonochromaticField(wavelength=wavelength, extent_x=x, extent_y=y, Nx=Nx, Ny=Ny, intensity=1)\n",
    "        add_slit(F, slit)\n",
    "        F.propagate(distance)\n",
    "\n",
    "        E.append(F.E)\n",
    "    \n",
    "    return np.array(E)\n",
    "\n",
    "def propogate(X, wavelength, x, y, Nx, Ny, distance):\n",
    "\n",
    "    def add_slit(F, t):\n",
    "        F.E = F.E*t\n",
    "        F.I = np.real(F.E * np.conjugate(F.E)) \n",
    "\n",
    "    F = MonochromaticField(wavelength=wavelength, extent_x=x, extent_y=y, Nx=Nx, Ny=Ny, intensity=1)\n",
    "    add_slit(F, X)\n",
    "    F.propagate(distance)\n",
    "    \n",
    "    return F.E"
   ]
  },
  {
   "cell_type": "code",
   "execution_count": 47,
   "metadata": {
    "id": "_1mmdOBaQ2SC"
   },
   "outputs": [],
   "source": [
    "def create_masks():\n",
    "    all_masks = []\n",
    "\n",
    "    detector_array = np.zeros((34, 34))\n",
    "    detector_array[4:10, 4:10] = 1 # 0\n",
    "    all_masks.append(detector_array)\n",
    "\n",
    "    detector_array = np.zeros((34, 34))\n",
    "    detector_array[4:10, 14:20] = 1 # 1\n",
    "    all_masks.append(detector_array)\n",
    "\n",
    "    detector_array = np.zeros((34, 34))\n",
    "    detector_array[4:10, 24:30] = 1 # 2 \n",
    "    all_masks.append(detector_array)\n",
    "\n",
    "    detector_array = np.zeros((34, 34))\n",
    "    detector_array[14:20, 2:8] = 1 # 3 \n",
    "    all_masks.append(detector_array)\n",
    "\n",
    "    detector_array = np.zeros((34, 34))\n",
    "    detector_array[14:20, 10:16] = 1 # 4\n",
    "    all_masks.append(detector_array)\n",
    "\n",
    "    detector_array = np.zeros((34, 34))\n",
    "    detector_array[14:20, 18:24] = 1 # 5\n",
    "    all_masks.append(detector_array)\n",
    "\n",
    "    detector_array = np.zeros((34, 34))\n",
    "    detector_array[14:20, 26:32] = 1 # 6\n",
    "    all_masks.append(detector_array)\n",
    "    \n",
    "    detector_array = np.zeros((34, 34))\n",
    "    detector_array[24:30, 4:10] = 1 # 7\n",
    "    all_masks.append(detector_array)\n",
    "\n",
    "    detector_array = np.zeros((34, 34))\n",
    "    detector_array[24:30, 14:20] = 1 # 8\n",
    "    all_masks.append(detector_array)\n",
    "\n",
    "    detector_array = np.zeros((34, 34))\n",
    "    detector_array[24:30, 24:30] = 1 # 9\n",
    "    all_masks.append(detector_array)\n",
    "\n",
    "#     detector_array = np.zeros((14, 14))\n",
    "#     detector_array[2:4, 2:4] = 1 # 0\n",
    "#     all_masks.append(detector_array)\n",
    "\n",
    "#     detector_array = np.zeros((14, 14))\n",
    "#     detector_array[2:4, 6:8] = 1 # 1\n",
    "#     all_masks.append(detector_array)\n",
    "\n",
    "#     detector_array = np.zeros((14, 14))\n",
    "#     detector_array[2:4, 10:12] = 1 # 2 \n",
    "#     all_masks.append(detector_array)\n",
    "\n",
    "#     detector_array = np.zeros((14, 14))\n",
    "#     detector_array[6:8, 0:2] = 1 # 3 \n",
    "#     all_masks.append(detector_array)\n",
    "\n",
    "#     detector_array = np.zeros((14, 14))\n",
    "#     detector_array[6:8, 4:6] = 1 # 4\n",
    "#     all_masks.append(detector_array)\n",
    "\n",
    "#     detector_array = np.zeros((14, 14))\n",
    "#     detector_array[6:8, 8:10] = 1 # 5\n",
    "#     all_masks.append(detector_array)\n",
    "\n",
    "#     detector_array = np.zeros((14, 14))\n",
    "#     detector_array[6:8, 12:14] = 1 # 6\n",
    "#     all_masks.append(detector_array)\n",
    "    \n",
    "#     detector_array = np.zeros((14, 14))\n",
    "#     detector_array[10:12, 2:4] = 1 # 7\n",
    "#     all_masks.append(detector_array)\n",
    "\n",
    "#     detector_array = np.zeros((14, 14))\n",
    "#     detector_array[10:12, 6:8] = 1 # 8\n",
    "#     all_masks.append(detector_array)\n",
    "\n",
    "#     detector_array = np.zeros((14, 14))\n",
    "#     detector_array[10:12, 10:12] = 1 # 9\n",
    "#     all_masks.append(detector_array)\n",
    "\n",
    "    return np.array(all_masks)"
   ]
  },
  {
   "cell_type": "code",
   "execution_count": 48,
   "metadata": {
    "id": "hTG6d51BQ3rY"
   },
   "outputs": [],
   "source": [
    "def prepare_labels(labels):\n",
    "    masks = create_masks()\n",
    "    return masks[labels]"
   ]
  },
  {
   "cell_type": "code",
   "execution_count": 49,
   "metadata": {
    "id": "MP43lt45R0AZ"
   },
   "outputs": [],
   "source": [
    "def shuffle(data, masks, labels):\n",
    "    keys = np.array(range(data.shape[0]))\n",
    "    np.random.shuffle(keys)\n",
    "    return data[keys], masks[keys], labels[keys]"
   ]
  },
  {
   "cell_type": "code",
   "execution_count": 50,
   "metadata": {
    "id": "f47T57hRR1hj"
   },
   "outputs": [],
   "source": [
    "def augmentation(image, max_angle):\n",
    "    angle = np.random.randint(low=-1*max_angle, high=max_angle)\n",
    "    return skimage.transform.rotate(image, angle, order=0, mode='constant', cval=1, preserve_range=True)"
   ]
  },
  {
   "cell_type": "markdown",
   "metadata": {
    "id": "d-qN0mwuR5ul"
   },
   "source": [
    "## Layer and Model TF Implementation"
   ]
  },
  {
   "cell_type": "code",
   "execution_count": 51,
   "metadata": {
    "id": "FIHcAAKWQ5Gv"
   },
   "outputs": [],
   "source": [
    "# Not using MonochromaticField object\n",
    "class OpticalLayer(tf.keras.layers.Layer):\n",
    "\n",
    "    def squash_fi(self, phase):\n",
    "        return tf.constant(math.pi, dtype=tf.float64) * tf.math.sigmoid(phase)\n",
    "\n",
    "    def __init__(self, units, wavelength, extent_x, extent_y, Nx, Ny, ref_idx=1.7382, att_coef=396.69):\n",
    "        super(OpticalLayer, self).__init__()\n",
    "        self.units = units\n",
    "\n",
    "        self.λ = wavelength\n",
    "        self.n_mat = ref_idx\n",
    "        self.n_air = 1.0003\n",
    "        self.miu_mat = att_coef\n",
    "\n",
    "        self.extent_x = extent_x\n",
    "        self.extent_y = extent_y\n",
    "\n",
    "        self.x = self.extent_x*(tf.range(Nx, dtype=tf.float64)-Nx//2)/Nx\n",
    "        self.y = self.extent_y*(tf.range(Ny, dtype=tf.float64)-Ny//2)/Ny\n",
    "\n",
    "        self.Nx = Nx\n",
    "        self.Ny = Ny\n",
    "\n",
    "        self.kx_freq = tf.convert_to_tensor(np.fft.fftfreq(self.Nx, d = self.x[1]-self.x[0]))\n",
    "        self.ky_freq = tf.convert_to_tensor(np.fft.fftfreq(self.Ny, d = self.y[1]-self.y[0]))\n",
    "\n",
    "    def build(self, input_shape):\n",
    "\n",
    "        w_init = tf.random_normal_initializer()\n",
    "\n",
    "\n",
    "        init_phase = tf.random_normal_initializer(mean=0, stddev=1)(shape=self.units, dtype=tf.float64) # creating phase values around 0\n",
    "\n",
    "        self.pha = tf.Variable(init_phase,\n",
    "                             trainable=True)\n",
    "\n",
    "        # # If amplitude is seperate from phase :\n",
    "\n",
    "        # init_amp = tf.ones(shape=self.units, dtype=tf.float64) # intensity coef is 1\n",
    "\n",
    "        # self.amp =  tf.Variable(init_amp,\n",
    "        #                      trainable=True)\n",
    "    \n",
    "\n",
    "    def call(self, inputs, distance_z):\n",
    "        assert inputs.shape[1:] == self.pha.shape\n",
    "\n",
    "        # amp = tf.dtypes.complex(real=self.amp, imag=tf.zeros(self.amp.shape, dtype=tf.float64)) # If amplitude is seperate from phase\n",
    "        squashed_pha = self.squash_fi(self.pha)\n",
    "\n",
    "        # Relationship between phase and thickness of material\n",
    "        height = self.λ * squashed_pha / 2 / tf.constant(math.pi, dtype=tf.float64) / (self.n_mat - self.n_air)\n",
    "\n",
    "        # Relationship between thickness and amplitude of light leaving the diffraction plate\n",
    "        amp = tf.math.exp(-self.miu_mat * height)\n",
    "        amp = tf.dtypes.complex(real=amp, imag=tf.zeros(amp.shape, dtype=tf.float64))\n",
    "\n",
    "        imag_pha = tf.dtypes.complex(real=tf.zeros(squashed_pha.shape, dtype=tf.float64), imag=squashed_pha)\n",
    "\n",
    "        self.E = inputs * amp * tf.math.exp(imag_pha)\n",
    "\n",
    "        # Free propagation\n",
    "        self.propagate(distance_z)\n",
    "\n",
    "        return self.E\n",
    "\n",
    "    def propagate(self, z):\n",
    "\n",
    "        # compute angular spectrum\n",
    "        fft_c = tf.signal.fft2d(self.E)\n",
    "        c = tf.signal.fftshift(fft_c)\n",
    "\n",
    "        kx = 2*tf.constant(math.pi, dtype=tf.float64)*tf.signal.fftshift(self.kx_freq)\n",
    "        ky = 2*tf.constant(math.pi, dtype=tf.float64)*tf.signal.fftshift(self.ky_freq)\n",
    "        kx, ky = tf.meshgrid(kx, ky)\n",
    "\n",
    "        argument = (2 * tf.constant(math.pi, dtype=tf.float64) / self.λ) ** 2 - kx ** 2 - ky ** 2\n",
    "\n",
    "        #Calculate the propagating and the evanescent (complex) modes\n",
    "        tmp = tf.dtypes.complex(real=tf.sqrt(tf.abs(argument)), imag=tf.zeros(argument.shape, dtype=tf.float64))\n",
    "        kz = tf.where(argument >= 0, tmp, tf.constant(1j, dtype=tf.complex128)*tmp)\n",
    "\n",
    "        # propagate the angular spectrum by distance z\n",
    "        self.E = tf.signal.ifft2d(tf.signal.ifftshift(c * tf.exp(1j * kz * z)))\n",
    "    \n",
    "    def normalization_loss(self, k=0.01):\n",
    "        return tf.reduce_sum(tf.math.square(self.pha), axis=(0, 1)) * k"
   ]
  },
  {
   "cell_type": "code",
   "execution_count": 52,
   "metadata": {
    "id": "8sFC4kRn-Hiu"
   },
   "outputs": [],
   "source": [
    "class DDNN(tf.keras.Model):\n",
    "\n",
    "    def __init__(self, n_layers, units, wavelength, extent_x, extent_y, Nx, Ny, distance):\n",
    "        super(DDNN, self).__init__()\n",
    "        self.distance = distance\n",
    "\n",
    "        self.distance = distance\n",
    "        self.wavelength = wavelength\n",
    "        self.extent_x = extent_x\n",
    "        self.extent_y = extent_y\n",
    "        self.Nx = Nx\n",
    "        self.Ny = Ny\n",
    "\n",
    "        self.alayers = []\n",
    "        for i in range(n_layers):\n",
    "            self.alayers.append(OpticalLayer(units, wavelength, extent_x, extent_y, Nx, Ny))\n",
    "\n",
    "    def call(self, inputs):\n",
    "\n",
    "        x = self.alayers[0](inputs, self.distance)\n",
    "\n",
    "        for layer in self.alayers[1:]:\n",
    "            x = layer(x, self.distance)\n",
    "        \n",
    "        x = tf.math.real(x * tf.math.conj(x)) # Intensity on detector\n",
    "\n",
    "        return x\n",
    "    \n",
    "    def normalization_loss(self, k=0.01):\n",
    "        \n",
    "        loss = 0\n",
    "        for i in range(len(self.alayers)):\n",
    "            loss += self.alayers[i].normalization_loss(k)\n",
    "            \n",
    "        return loss"
   ]
  },
  {
   "cell_type": "code",
   "execution_count": 53,
   "metadata": {
    "id": "4ctF6_hHQ7-q"
   },
   "outputs": [],
   "source": [
    "def normalized_loss(y_true_mask, y_pred_intensity):\n",
    "    squared = (y_pred_intensity) #tf.math.square\n",
    "    normalized_y_pred_intensity = squared / tf.reshape(tf.math.reduce_sum(squared, axis=(1, 2)), (len(squared), 1, 1))\n",
    "    applied_y_true_mask = tf.multiply(normalized_y_pred_intensity, y_true_mask)\n",
    "    batch_loss = tf.reduce_sum(normalized_y_pred_intensity, axis=(1, 2)) / tf.reduce_sum(applied_y_true_mask, axis=(1, 2)) - 1\n",
    "    return tf.math.reduce_mean(batch_loss)"
   ]
  },
  {
   "cell_type": "code",
   "execution_count": 54,
   "metadata": {
    "id": "XhmO3RDToeKg"
   },
   "outputs": [],
   "source": [
    "def predict(model, X, propogate_param=None):\n",
    "\n",
    "    if propogate_param is not None:\n",
    "        X = data_propogate(X, *propogate_param)\n",
    "\n",
    "    masks = create_masks()\n",
    "\n",
    "    output = model(X)\n",
    "    mask_sum = tf.math.reduce_sum(output[:, None, :, :] * masks, axis=(2, 3))\n",
    "    prediction = tf.math.argmax(mask_sum, axis=1)\n",
    "\n",
    "    return np.array(prediction)"
   ]
  },
  {
   "cell_type": "code",
   "execution_count": 55,
   "metadata": {
    "id": "EbKXeuPsQ-tE"
   },
   "outputs": [],
   "source": [
    "def accuracy(output, y_true, masks):\n",
    "    mask_sum = tf.math.reduce_sum(output[:, None, :, :] * masks, axis=(2, 3))\n",
    "    prediction = tf.math.argmax(mask_sum, axis=1)\n",
    "    is_correct = tf.cast((prediction==y_true), tf.float32)\n",
    "    return tf.reduce_mean(is_correct)"
   ]
  },
  {
   "cell_type": "code",
   "execution_count": 56,
   "metadata": {
    "id": "n9xkkNvtW0b4"
   },
   "outputs": [],
   "source": [
    "def evaluate(model, X, y_true, propogate_param=None, k=0):\n",
    "    \n",
    "    if propogate_param is not None:\n",
    "        X = data_propogate(X, *propogate_param)\n",
    "\n",
    "    y_masks = prepare_labels(y_true)\n",
    "\n",
    "    predictions = []\n",
    "    loss = []\n",
    "\n",
    "    output = model(X)\n",
    "    loss.append(normalized_loss(y_masks, output) + model.normalization_loss(k))\n",
    "\n",
    "    mask_sum = tf.math.reduce_sum(output[:, None, :, :] * masks, axis=(2, 3))\n",
    "    prediction = tf.math.argmax(mask_sum, axis=1)\n",
    "    is_correct = tf.cast((prediction==y_true), tf.float32)\n",
    "    \n",
    "    return np.array(loss).mean(), np.array(is_correct).mean()"
   ]
  },
  {
   "cell_type": "markdown",
   "metadata": {
    "id": "rpRiL3iASEAg"
   },
   "source": [
    "## Training Model"
   ]
  },
  {
   "cell_type": "code",
   "execution_count": 58,
   "metadata": {
    "id": "KYZZHBK8RH0V"
   },
   "outputs": [],
   "source": [
    "import zipfile\n",
    "with zipfile.ZipFile(r\"cleaned.zip\", 'r') as zip_ref:\n",
    "    zip_ref.extractall(r\"\")"
   ]
  },
  {
   "cell_type": "code",
   "execution_count": 59,
   "metadata": {
    "id": "KaVEP_rdzdtJ"
   },
   "outputs": [],
   "source": [
    "def read_data(root):\n",
    "    import cv2\n",
    "\n",
    "    train = []\n",
    "    train_y = []\n",
    "    test = []\n",
    "    test_y = []\n",
    "    for dataset in os.listdir(root):\n",
    "        folder = os.path.join(root, dataset)\n",
    "        for category in os.listdir(folder):\n",
    "            klass = os.path.basename(category).strip()\n",
    "            if klass == 'knife':\n",
    "                label = 0\n",
    "            elif klass == 'pistol':\n",
    "                label = 1\n",
    "            else:\n",
    "                label = 2\n",
    "            path = os.path.join(folder, category)\n",
    "            for item in os.listdir(path):\n",
    "                picture = cv2.imread(os.path.join(path, item), cv2.IMREAD_GRAYSCALE)\n",
    "                picture = cv2.resize(picture, (250, 250))\n",
    "                if os.path.basename(dataset).strip() == \"train\":\n",
    "                    train.append(picture)\n",
    "                    train_y.append(label)\n",
    "                else:\n",
    "                    test.append(picture)\n",
    "                    test_y.append(label)\n",
    "\n",
    "    train = np.array(train)\n",
    "    train_y = np.array(train_y)\n",
    "\n",
    "    test = np.array(test)\n",
    "    test_y = np.array(test_y)\n",
    "\n",
    "    return train, train_y, test, test_y"
   ]
  },
  {
   "cell_type": "code",
   "execution_count": 60,
   "metadata": {
    "id": "_h-PMiBfzkg4"
   },
   "outputs": [],
   "source": [
    "X, y, X_test, y_test = read_data(r\"cleaned\")"
   ]
  },
  {
   "cell_type": "code",
   "execution_count": 61,
   "metadata": {
    "id": "60Tb-dbOts_Q"
   },
   "outputs": [],
   "source": [
    "def equal_distribution(X, y, n_samples=None):\n",
    "    assert X.shape[0] == y.shape[0]\n",
    "\n",
    "    labels, idx, counts = np.unique(y, return_index=True, return_counts=True)\n",
    "\n",
    "    if n_samples is None :\n",
    "        n_min = counts.min()\n",
    "    else:\n",
    "        n_min = n_samples\n",
    "    \n",
    "    X_filt = []\n",
    "    y_filt = []\n",
    "\n",
    "    for label in labels:\n",
    "        is_label = y==label\n",
    "        X_filt.append(X[is_label][:n_min])\n",
    "        y_filt.append(y[is_label][:n_min])\n",
    "\n",
    "    return np.vstack(np.array(X_filt)), np.array(y_filt).ravel()"
   ]
  },
  {
   "cell_type": "code",
   "execution_count": 62,
   "metadata": {
    "id": "q6W4ncdiv98j"
   },
   "outputs": [],
   "source": [
    "X, y = equal_distribution(X, y)"
   ]
  },
  {
   "cell_type": "code",
   "execution_count": 63,
   "metadata": {
    "colab": {
     "base_uri": "https://localhost:8080/",
     "height": 286
    },
    "id": "jPtf_Q_n0EWX",
    "outputId": "0d4a6088-ce34-40b4-f4bd-d9473a4d69af"
   },
   "outputs": [
    {
     "data": {
      "text/plain": [
       "<matplotlib.colorbar.Colorbar at 0x290a1feda48>"
      ]
     },
     "execution_count": 63,
     "metadata": {},
     "output_type": "execute_result"
    },
    {
     "data": {
      "image/png": "[encoded data removed]",
      "text/plain": [
       "<Figure size 432x288 with 2 Axes>"
      ]
     },
     "metadata": {
      "needs_background": "light"
     },
     "output_type": "display_data"
    }
   ],
   "source": [
    "plt.imshow(X_test[50]>240, cmap='gray')\n",
    "plt.colorbar()"
   ]
  },
  {
   "cell_type": "code",
   "execution_count": 64,
   "metadata": {
    "id": "30uVSmMUug-B"
   },
   "outputs": [],
   "source": [
    "def split_dataset(X, y, validation_split, seed=42):\n",
    "    assert X.shape[0] == y.shape[0]\n",
    "    np.random.seed(seed)\n",
    "    \n",
    "    length = y.shape[0]\n",
    "\n",
    "    val_n = np.floor(length * validation_split).astype(int)\n",
    "\n",
    "    rand_idx = np.random.choice(length, val_n, replace=False)\n",
    "\n",
    "    train_data = np.delete(X, rand_idx, axis=0)\n",
    "    train_labels = np.delete(y, rand_idx)\n",
    "    val_data = X[rand_idx]\n",
    "    val_labels = y[rand_idx]\n",
    "\n",
    "    return train_data, train_labels, val_data, val_labels"
   ]
  },
  {
   "cell_type": "code",
   "execution_count": 65,
   "metadata": {
    "id": "NQkqFMr50-X7"
   },
   "outputs": [],
   "source": [
    "X_train, y_train, X_val, y_val = split_dataset(X, y, validation_split=0.15)"
   ]
  },
  {
   "cell_type": "code",
   "execution_count": 66,
   "metadata": {
    "id": "F15uP2NYSjkj"
   },
   "outputs": [],
   "source": [
    "def data_process(data, threshold, shape):\n",
    "\n",
    "    resized = []\n",
    "    for image in data:\n",
    "        resized.append(cv2.resize(image, shape))\n",
    "\n",
    "    resized = np.array(resized)\n",
    "    \n",
    "    # edge = np.floor(data.mean() * threshold)\n",
    "    resized[resized > threshold] = 0\n",
    "    resized[resized != 0 ] = 1\n",
    "        \n",
    "    return np.array(resized)"
   ]
  },
  {
   "cell_type": "code",
   "execution_count": 67,
   "metadata": {
    "id": "yBREr-BLRO_C"
   },
   "outputs": [],
   "source": [
    "X_train = data_process(X_train, 240, (32, 32))\n",
    "X_train = np.pad(X_train, ((0, 0), (1, 1), (1, 1)), mode='constant', constant_values=0) # Need to pad so smartphone would allow some light to pass\n",
    "\n",
    "X_val = data_process(X_val, 240, (32, 32))\n",
    "X_val = np.pad(X_val, ((0, 0), (1, 1), (1, 1)), mode='constant', constant_values=0) # Need to pad so smartphone would allow some light to pass\n",
    "\n",
    "X_test = data_process(X_test, 240, (32, 32))\n",
    "X_test = np.pad(X_test, ((0, 0), (1, 1), (1, 1)), mode='constant', constant_values=0) # Need to pad so smartphone would allow some light to pass\n",
    "\n",
    "ready_y_train = prepare_labels(y_train)\n",
    "ready_y_val = prepare_labels(y_val)\n",
    "ready_y_test = prepare_labels(y_test)"
   ]
  },
  {
   "cell_type": "code",
   "execution_count": 68,
   "metadata": {
    "colab": {
     "base_uri": "https://localhost:8080/",
     "height": 508
    },
    "id": "9ymBToyd3Y9r",
    "outputId": "6a8cf5ad-7a11-4049-a038-b378cb16e7dd"
   },
   "outputs": [
    {
     "data": {
      "text/plain": [
       "array([[0, 0, 0, ..., 0, 0, 0],\n",
       "       [0, 0, 0, ..., 0, 0, 0],\n",
       "       [0, 0, 1, ..., 0, 0, 0],\n",
       "       ...,\n",
       "       [0, 0, 0, ..., 0, 0, 0],\n",
       "       [0, 0, 0, ..., 0, 0, 0],\n",
       "       [0, 0, 0, ..., 0, 0, 0]], dtype=uint8)"
      ]
     },
     "execution_count": 68,
     "metadata": {},
     "output_type": "execute_result"
    },
    {
     "data": {
      "image/png": "[encoded data removed]",
      "text/plain": [
       "<Figure size 432x288 with 1 Axes>"
      ]
     },
     "metadata": {
      "needs_background": "light"
     },
     "output_type": "display_data"
    }
   ],
   "source": [
    "plt.imshow(X_train[370])\n",
    "X_train[200]"
   ]
  },
  {
   "cell_type": "code",
   "execution_count": 69,
   "metadata": {},
   "outputs": [
    {
     "data": {
      "text/plain": [
       "(472, 34, 34)"
      ]
     },
     "execution_count": 69,
     "metadata": {},
     "output_type": "execute_result"
    }
   ],
   "source": [
    "X_train.shape"
   ]
  },
  {
   "cell_type": "code",
   "execution_count": 70,
   "metadata": {
    "id": "166SaOMcRRAz"
   },
   "outputs": [],
   "source": [
    "# I propogate in the functions, so this line is not needed\n",
    "# E, I = data_propogate(X_train, 1*mm, 34, 34, 34, 34, 3*cm)"
   ]
  },
  {
   "cell_type": "code",
   "execution_count": 71,
   "metadata": {
    "id": "mXZ6PQswX-VF"
   },
   "outputs": [],
   "source": [
    "units = (34, 34)\n",
    "layers = 5\n",
    "distance = 5*cm\n",
    "radiation_wavelength = 1*mm\n",
    "mesh_size_x = 34*mm\n",
    "mesh_size_y = 34*mm\n",
    "Nx = 34\n",
    "Ny= 34"
   ]
  },
  {
   "cell_type": "code",
   "execution_count": 72,
   "metadata": {
    "id": "1bIW3KrZRisr"
   },
   "outputs": [],
   "source": [
    "# Creating models with different number of layers\n",
    "\n",
    "model = DDNN(layers, units, radiation_wavelength, mesh_size_x, mesh_size_y, Nx, Ny, distance)"
   ]
  },
  {
   "cell_type": "code",
   "execution_count": 73,
   "metadata": {
    "id": "ADSsXcBo5ujK"
   },
   "outputs": [],
   "source": [
    "np.random.seed(42)\n",
    "tf.random.set_seed(42)\n",
    "\n",
    "masks = create_masks()\n",
    "\n",
    "optimizer = tf.keras.optimizers.Adam(learning_rate=2e-3)\n",
    "mse_loss_fn = normalized_loss\n",
    "\n",
    "epochs = 20\n",
    "batch_size = 2\n",
    "freq = 50\n",
    "k = 0.001"
   ]
  },
  {
   "cell_type": "code",
   "execution_count": 77,
   "metadata": {
    "colab": {
     "base_uri": "https://localhost:8080/"
    },
    "id": "oOtPPk6HRkza",
    "outputId": "87998944-6014-474b-d33d-8a675e9c234b",
    "scrolled": true
   },
   "outputs": [
    {
     "name": "stdout",
     "output_type": "stream",
     "text": [
      "Start of epoch 0\n",
      "step 50: mean loss = 25.8541 , mean acc = 0.6400 , val loss = 21.4102 , val acc = 0.7952 , norm loss = 5.6938\n"
     ]
    },
    {
     "ename": "KeyboardInterrupt",
     "evalue": "",
     "output_type": "error",
     "traceback": [
      "\u001b[1;31m---------------------------------------------------------------------------\u001b[0m",
      "\u001b[1;31mKeyboardInterrupt\u001b[0m                         Traceback (most recent call last)",
      "\u001b[1;32m<ipython-input-77-300f271d58cd>\u001b[0m in \u001b[0;36m<module>\u001b[1;34m\u001b[0m\n\u001b[0;32m     35\u001b[0m \u001b[1;33m\u001b[0m\u001b[0m\n\u001b[0;32m     36\u001b[0m \u001b[1;33m\u001b[0m\u001b[0m\n\u001b[1;32m---> 37\u001b[1;33m         \u001b[0mgrads\u001b[0m \u001b[1;33m=\u001b[0m \u001b[0mtape\u001b[0m\u001b[1;33m.\u001b[0m\u001b[0mgradient\u001b[0m\u001b[1;33m(\u001b[0m\u001b[0mloss\u001b[0m\u001b[1;33m,\u001b[0m \u001b[0mmodel\u001b[0m\u001b[1;33m.\u001b[0m\u001b[0mtrainable_weights\u001b[0m\u001b[1;33m)\u001b[0m\u001b[1;33m\u001b[0m\u001b[1;33m\u001b[0m\u001b[0m\n\u001b[0m\u001b[0;32m     38\u001b[0m         \u001b[0moptimizer\u001b[0m\u001b[1;33m.\u001b[0m\u001b[0mapply_gradients\u001b[0m\u001b[1;33m(\u001b[0m\u001b[0mzip\u001b[0m\u001b[1;33m(\u001b[0m\u001b[0mgrads\u001b[0m\u001b[1;33m,\u001b[0m \u001b[0mmodel\u001b[0m\u001b[1;33m.\u001b[0m\u001b[0mtrainable_weights\u001b[0m\u001b[1;33m)\u001b[0m\u001b[1;33m)\u001b[0m\u001b[1;33m\u001b[0m\u001b[1;33m\u001b[0m\u001b[0m\n\u001b[0;32m     39\u001b[0m \u001b[1;33m\u001b[0m\u001b[0m\n",
      "\u001b[1;32m~\\anaconda3\\lib\\site-packages\\tensorflow\\python\\eager\\backprop.py\u001b[0m in \u001b[0;36mgradient\u001b[1;34m(self, target, sources, output_gradients, unconnected_gradients)\u001b[0m\n\u001b[0;32m   1084\u001b[0m         \u001b[0moutput_gradients\u001b[0m\u001b[1;33m=\u001b[0m\u001b[0moutput_gradients\u001b[0m\u001b[1;33m,\u001b[0m\u001b[1;33m\u001b[0m\u001b[1;33m\u001b[0m\u001b[0m\n\u001b[0;32m   1085\u001b[0m         \u001b[0msources_raw\u001b[0m\u001b[1;33m=\u001b[0m\u001b[0mflat_sources_raw\u001b[0m\u001b[1;33m,\u001b[0m\u001b[1;33m\u001b[0m\u001b[1;33m\u001b[0m\u001b[0m\n\u001b[1;32m-> 1086\u001b[1;33m         unconnected_gradients=unconnected_gradients)\n\u001b[0m\u001b[0;32m   1087\u001b[0m \u001b[1;33m\u001b[0m\u001b[0m\n\u001b[0;32m   1088\u001b[0m     \u001b[1;32mif\u001b[0m \u001b[1;32mnot\u001b[0m \u001b[0mself\u001b[0m\u001b[1;33m.\u001b[0m\u001b[0m_persistent\u001b[0m\u001b[1;33m:\u001b[0m\u001b[1;33m\u001b[0m\u001b[1;33m\u001b[0m\u001b[0m\n",
      "\u001b[1;32m~\\anaconda3\\lib\\site-packages\\tensorflow\\python\\eager\\imperative_grad.py\u001b[0m in \u001b[0;36mimperative_grad\u001b[1;34m(tape, target, sources, output_gradients, sources_raw, unconnected_gradients)\u001b[0m\n\u001b[0;32m     75\u001b[0m       \u001b[0moutput_gradients\u001b[0m\u001b[1;33m,\u001b[0m\u001b[1;33m\u001b[0m\u001b[1;33m\u001b[0m\u001b[0m\n\u001b[0;32m     76\u001b[0m       \u001b[0msources_raw\u001b[0m\u001b[1;33m,\u001b[0m\u001b[1;33m\u001b[0m\u001b[1;33m\u001b[0m\u001b[0m\n\u001b[1;32m---> 77\u001b[1;33m       compat.as_str(unconnected_gradients.value))\n\u001b[0m",
      "\u001b[1;32m~\\anaconda3\\lib\\site-packages\\tensorflow\\python\\eager\\backprop.py\u001b[0m in \u001b[0;36m_gradient_function\u001b[1;34m(op_name, attr_tuple, num_inputs, inputs, outputs, out_grads, skip_input_indices, forward_pass_name_scope)\u001b[0m\n\u001b[0;32m    160\u001b[0m       \u001b[0mgradient_name_scope\u001b[0m \u001b[1;33m+=\u001b[0m \u001b[0mforward_pass_name_scope\u001b[0m \u001b[1;33m+\u001b[0m \u001b[1;34m\"/\"\u001b[0m\u001b[1;33m\u001b[0m\u001b[1;33m\u001b[0m\u001b[0m\n\u001b[0;32m    161\u001b[0m     \u001b[1;32mwith\u001b[0m \u001b[0mops\u001b[0m\u001b[1;33m.\u001b[0m\u001b[0mname_scope\u001b[0m\u001b[1;33m(\u001b[0m\u001b[0mgradient_name_scope\u001b[0m\u001b[1;33m)\u001b[0m\u001b[1;33m:\u001b[0m\u001b[1;33m\u001b[0m\u001b[1;33m\u001b[0m\u001b[0m\n\u001b[1;32m--> 162\u001b[1;33m       \u001b[1;32mreturn\u001b[0m \u001b[0mgrad_fn\u001b[0m\u001b[1;33m(\u001b[0m\u001b[0mmock_op\u001b[0m\u001b[1;33m,\u001b[0m \u001b[1;33m*\u001b[0m\u001b[0mout_grads\u001b[0m\u001b[1;33m)\u001b[0m\u001b[1;33m\u001b[0m\u001b[1;33m\u001b[0m\u001b[0m\n\u001b[0m\u001b[0;32m    163\u001b[0m   \u001b[1;32melse\u001b[0m\u001b[1;33m:\u001b[0m\u001b[1;33m\u001b[0m\u001b[1;33m\u001b[0m\u001b[0m\n\u001b[0;32m    164\u001b[0m     \u001b[1;32mreturn\u001b[0m \u001b[0mgrad_fn\u001b[0m\u001b[1;33m(\u001b[0m\u001b[0mmock_op\u001b[0m\u001b[1;33m,\u001b[0m \u001b[1;33m*\u001b[0m\u001b[0mout_grads\u001b[0m\u001b[1;33m)\u001b[0m\u001b[1;33m\u001b[0m\u001b[1;33m\u001b[0m\u001b[0m\n",
      "\u001b[1;32m~\\anaconda3\\lib\\site-packages\\tensorflow\\python\\ops\\math_grad.py\u001b[0m in \u001b[0;36m_RealDivGrad\u001b[1;34m(op, grad)\u001b[0m\n\u001b[0;32m   1422\u001b[0m           array_ops.reshape(\n\u001b[0;32m   1423\u001b[0m               math_ops.reduce_sum(\n\u001b[1;32m-> 1424\u001b[1;33m                   grad * math_ops.realdiv(math_ops.realdiv(-x, y), y), ry), sy))\n\u001b[0m\u001b[0;32m   1425\u001b[0m \u001b[1;33m\u001b[0m\u001b[0m\n\u001b[0;32m   1426\u001b[0m \u001b[1;33m\u001b[0m\u001b[0m\n",
      "\u001b[1;32m~\\anaconda3\\lib\\site-packages\\tensorflow\\python\\ops\\math_ops.py\u001b[0m in \u001b[0;36mbinary_op_wrapper\u001b[1;34m(x, y)\u001b[0m\n\u001b[0;32m   1162\u001b[0m     \u001b[1;32mwith\u001b[0m \u001b[0mops\u001b[0m\u001b[1;33m.\u001b[0m\u001b[0mname_scope\u001b[0m\u001b[1;33m(\u001b[0m\u001b[1;32mNone\u001b[0m\u001b[1;33m,\u001b[0m \u001b[0mop_name\u001b[0m\u001b[1;33m,\u001b[0m \u001b[1;33m[\u001b[0m\u001b[0mx\u001b[0m\u001b[1;33m,\u001b[0m \u001b[0my\u001b[0m\u001b[1;33m]\u001b[0m\u001b[1;33m)\u001b[0m \u001b[1;32mas\u001b[0m \u001b[0mname\u001b[0m\u001b[1;33m:\u001b[0m\u001b[1;33m\u001b[0m\u001b[1;33m\u001b[0m\u001b[0m\n\u001b[0;32m   1163\u001b[0m       \u001b[1;32mtry\u001b[0m\u001b[1;33m:\u001b[0m\u001b[1;33m\u001b[0m\u001b[1;33m\u001b[0m\u001b[0m\n\u001b[1;32m-> 1164\u001b[1;33m         \u001b[1;32mreturn\u001b[0m \u001b[0mfunc\u001b[0m\u001b[1;33m(\u001b[0m\u001b[0mx\u001b[0m\u001b[1;33m,\u001b[0m \u001b[0my\u001b[0m\u001b[1;33m,\u001b[0m \u001b[0mname\u001b[0m\u001b[1;33m=\u001b[0m\u001b[0mname\u001b[0m\u001b[1;33m)\u001b[0m\u001b[1;33m\u001b[0m\u001b[1;33m\u001b[0m\u001b[0m\n\u001b[0m\u001b[0;32m   1165\u001b[0m       \u001b[1;32mexcept\u001b[0m \u001b[1;33m(\u001b[0m\u001b[0mTypeError\u001b[0m\u001b[1;33m,\u001b[0m \u001b[0mValueError\u001b[0m\u001b[1;33m)\u001b[0m \u001b[1;32mas\u001b[0m \u001b[0me\u001b[0m\u001b[1;33m:\u001b[0m\u001b[1;33m\u001b[0m\u001b[1;33m\u001b[0m\u001b[0m\n\u001b[0;32m   1166\u001b[0m         \u001b[1;31m# Even if dispatching the op failed, the RHS may be a tensor aware\u001b[0m\u001b[1;33m\u001b[0m\u001b[1;33m\u001b[0m\u001b[1;33m\u001b[0m\u001b[0m\n",
      "\u001b[1;32m~\\anaconda3\\lib\\site-packages\\tensorflow\\python\\ops\\math_ops.py\u001b[0m in \u001b[0;36m_mul_dispatch\u001b[1;34m(x, y, name)\u001b[0m\n\u001b[0;32m   1494\u001b[0m     \u001b[1;32mreturn\u001b[0m \u001b[0msparse_tensor\u001b[0m\u001b[1;33m.\u001b[0m\u001b[0mSparseTensor\u001b[0m\u001b[1;33m(\u001b[0m\u001b[0my\u001b[0m\u001b[1;33m.\u001b[0m\u001b[0mindices\u001b[0m\u001b[1;33m,\u001b[0m \u001b[0mnew_vals\u001b[0m\u001b[1;33m,\u001b[0m \u001b[0my\u001b[0m\u001b[1;33m.\u001b[0m\u001b[0mdense_shape\u001b[0m\u001b[1;33m)\u001b[0m\u001b[1;33m\u001b[0m\u001b[1;33m\u001b[0m\u001b[0m\n\u001b[0;32m   1495\u001b[0m   \u001b[1;32melse\u001b[0m\u001b[1;33m:\u001b[0m\u001b[1;33m\u001b[0m\u001b[1;33m\u001b[0m\u001b[0m\n\u001b[1;32m-> 1496\u001b[1;33m     \u001b[1;32mreturn\u001b[0m \u001b[0mmultiply\u001b[0m\u001b[1;33m(\u001b[0m\u001b[0mx\u001b[0m\u001b[1;33m,\u001b[0m \u001b[0my\u001b[0m\u001b[1;33m,\u001b[0m \u001b[0mname\u001b[0m\u001b[1;33m=\u001b[0m\u001b[0mname\u001b[0m\u001b[1;33m)\u001b[0m\u001b[1;33m\u001b[0m\u001b[1;33m\u001b[0m\u001b[0m\n\u001b[0m\u001b[0;32m   1497\u001b[0m \u001b[1;33m\u001b[0m\u001b[0m\n\u001b[0;32m   1498\u001b[0m \u001b[1;33m\u001b[0m\u001b[0m\n",
      "\u001b[1;32m~\\anaconda3\\lib\\site-packages\\tensorflow\\python\\util\\dispatch.py\u001b[0m in \u001b[0;36mwrapper\u001b[1;34m(*args, **kwargs)\u001b[0m\n\u001b[0;32m    199\u001b[0m     \u001b[1;34m\"\"\"Call target, and fall back on dispatchers if there is a TypeError.\"\"\"\u001b[0m\u001b[1;33m\u001b[0m\u001b[1;33m\u001b[0m\u001b[0m\n\u001b[0;32m    200\u001b[0m     \u001b[1;32mtry\u001b[0m\u001b[1;33m:\u001b[0m\u001b[1;33m\u001b[0m\u001b[1;33m\u001b[0m\u001b[0m\n\u001b[1;32m--> 201\u001b[1;33m       \u001b[1;32mreturn\u001b[0m \u001b[0mtarget\u001b[0m\u001b[1;33m(\u001b[0m\u001b[1;33m*\u001b[0m\u001b[0margs\u001b[0m\u001b[1;33m,\u001b[0m \u001b[1;33m**\u001b[0m\u001b[0mkwargs\u001b[0m\u001b[1;33m)\u001b[0m\u001b[1;33m\u001b[0m\u001b[1;33m\u001b[0m\u001b[0m\n\u001b[0m\u001b[0;32m    202\u001b[0m     \u001b[1;32mexcept\u001b[0m \u001b[1;33m(\u001b[0m\u001b[0mTypeError\u001b[0m\u001b[1;33m,\u001b[0m \u001b[0mValueError\u001b[0m\u001b[1;33m)\u001b[0m\u001b[1;33m:\u001b[0m\u001b[1;33m\u001b[0m\u001b[1;33m\u001b[0m\u001b[0m\n\u001b[0;32m    203\u001b[0m       \u001b[1;31m# Note: convert_to_eager_tensor currently raises a ValueError, not a\u001b[0m\u001b[1;33m\u001b[0m\u001b[1;33m\u001b[0m\u001b[1;33m\u001b[0m\u001b[0m\n",
      "\u001b[1;32m~\\anaconda3\\lib\\site-packages\\tensorflow\\python\\ops\\math_ops.py\u001b[0m in \u001b[0;36mmultiply\u001b[1;34m(x, y, name)\u001b[0m\n\u001b[0;32m    516\u001b[0m   \"\"\"\n\u001b[0;32m    517\u001b[0m \u001b[1;33m\u001b[0m\u001b[0m\n\u001b[1;32m--> 518\u001b[1;33m   \u001b[1;32mreturn\u001b[0m \u001b[0mgen_math_ops\u001b[0m\u001b[1;33m.\u001b[0m\u001b[0mmul\u001b[0m\u001b[1;33m(\u001b[0m\u001b[0mx\u001b[0m\u001b[1;33m,\u001b[0m \u001b[0my\u001b[0m\u001b[1;33m,\u001b[0m \u001b[0mname\u001b[0m\u001b[1;33m)\u001b[0m\u001b[1;33m\u001b[0m\u001b[1;33m\u001b[0m\u001b[0m\n\u001b[0m\u001b[0;32m    519\u001b[0m \u001b[1;33m\u001b[0m\u001b[0m\n\u001b[0;32m    520\u001b[0m \u001b[1;33m\u001b[0m\u001b[0m\n",
      "\u001b[1;32m~\\anaconda3\\lib\\site-packages\\tensorflow\\python\\ops\\gen_math_ops.py\u001b[0m in \u001b[0;36mmul\u001b[1;34m(x, y, name)\u001b[0m\n\u001b[0;32m   6062\u001b[0m     \u001b[1;32mtry\u001b[0m\u001b[1;33m:\u001b[0m\u001b[1;33m\u001b[0m\u001b[1;33m\u001b[0m\u001b[0m\n\u001b[0;32m   6063\u001b[0m       _result = pywrap_tfe.TFE_Py_FastPathExecute(\n\u001b[1;32m-> 6064\u001b[1;33m         _ctx, \"Mul\", name, x, y)\n\u001b[0m\u001b[0;32m   6065\u001b[0m       \u001b[1;32mreturn\u001b[0m \u001b[0m_result\u001b[0m\u001b[1;33m\u001b[0m\u001b[1;33m\u001b[0m\u001b[0m\n\u001b[0;32m   6066\u001b[0m     \u001b[1;32mexcept\u001b[0m \u001b[0m_core\u001b[0m\u001b[1;33m.\u001b[0m\u001b[0m_NotOkStatusException\u001b[0m \u001b[1;32mas\u001b[0m \u001b[0me\u001b[0m\u001b[1;33m:\u001b[0m\u001b[1;33m\u001b[0m\u001b[1;33m\u001b[0m\u001b[0m\n",
      "\u001b[1;31mKeyboardInterrupt\u001b[0m: "
     ]
    }
   ],
   "source": [
    "history = []\n",
    "history_val = []\n",
    "# Iterate over epochs.\n",
    "if batch_size is not None:\n",
    "    train_steps = len(X_train) // batch_size\n",
    "    if train_steps * batch_size < len(X_train):\n",
    "        train_steps += 1\n",
    "\n",
    "for epoch in range(epochs):\n",
    "    loss_metric = tf.keras.metrics.Mean()\n",
    "    acc_metric = tf.keras.metrics.Mean()\n",
    "\n",
    "    if epoch < 5:\n",
    "        optimizer = tf.keras.optimizers.Adam(learning_rate=5e-3)\n",
    "    elif epoch < 10:\n",
    "        optimizer = tf.keras.optimizers.Adam(learning_rate=3e-3)        \n",
    "    else:\n",
    "        optimizer = tf.keras.optimizers.Adam(learning_rate=0.5e-3)\n",
    "        \n",
    "    print(\"Start of epoch %d\" % (epoch,))\n",
    "\n",
    "    X_train, ready_y_train, y_train = shuffle(X_train, ready_y_train, y_train)\n",
    "    # Iterate over the batches of the dataset.\n",
    "    for step in range(train_steps):\n",
    "        X_batch = X_train[step*batch_size:(step+1)*batch_size]\n",
    "        y_batch = y_train[step*batch_size:(step+1)*batch_size]\n",
    "        y_batch_mask = ready_y_train[step*batch_size:(step+1)*batch_size]\n",
    "\n",
    "        #X_batch = augmentation(X_batch, 10)\n",
    "        X_batch = propogate(X_batch, radiation_wavelength, mesh_size_x, mesh_size_y, Nx, Ny, distance)\n",
    "        with tf.GradientTape() as tape:\n",
    "            output = model(X_batch)\n",
    "            # Compute loss\n",
    "            loss = mse_loss_fn(y_batch_mask, output) + model.normalization_loss(k)\n",
    "            \n",
    "\n",
    "        grads = tape.gradient(loss, model.trainable_weights)\n",
    "        optimizer.apply_gradients(zip(grads, model.trainable_weights))\n",
    "\n",
    "        loss_metric(loss)\n",
    "        acc_metric(accuracy(output, y_batch, masks))\n",
    "\n",
    "        if (step + 1) % freq == 0 and step != 0:\n",
    "            val_loss, val_acc = evaluate(model, X_val, y_val, propogate_param=(radiation_wavelength, mesh_size_x, mesh_size_y, Nx, Ny, distance), k=k)\n",
    "            history_val.append([val_loss, val_acc])\n",
    "\n",
    "            history.append([loss_metric.result().numpy(), acc_metric.result().numpy()])\n",
    "\n",
    "            print(\"step %d: mean loss = %.4f\" % (step+1, loss_metric.result()), \", mean acc = %.4f\" % (acc_metric.result()), \", val loss = %.4f\" % (val_loss), \", val acc = %.4f\" % (val_acc), \", norm loss = %.4f\" % (model.normalization_loss(k)))"
   ]
  },
  {
   "cell_type": "code",
   "execution_count": 288,
   "metadata": {},
   "outputs": [
    {
     "name": "stdout",
     "output_type": "stream",
     "text": [
      "[2.72953972 0.95555556]\n"
     ]
    }
   ],
   "source": [
    "header_test = \"Test Loss, Test Accuracy\"\n",
    "test_loss, test_acc = evaluate(model, X_test, y_test, propogate_param=(radiation_wavelength, mesh_size_x, mesh_size_y, Nx, Ny, distance), k=0)\n",
    "np.savetxt(X=np.array([test_loss, test_acc]).reshape(1, -1), fname = r\"C:\\Users\\Laurynas\\Desktop\\uni\\Magis\\Objects\\distance\\\\\" + f\"{layers} hidden layers test.csv\", header=header_test, delimiter=',')\n",
    "print(np.array([test_loss, test_acc]))"
   ]
  },
  {
   "cell_type": "code",
   "execution_count": 126,
   "metadata": {
    "colab": {
     "base_uri": "https://localhost:8080/",
     "height": 590
    },
    "id": "kyC_qWtw5yUY",
    "outputId": "2f606798-89e8-4c8a-86a9-490de712fdc0"
   },
   "outputs": [
    {
     "ename": "ValueError",
     "evalue": "x and y must have same first dimension, but have shapes (120,) and (1,)",
     "output_type": "error",
     "traceback": [
      "\u001b[1;31m---------------------------------------------------------------------------\u001b[0m",
      "\u001b[1;31mValueError\u001b[0m                                Traceback (most recent call last)",
      "\u001b[1;32m<ipython-input-126-7e3fa1c2c598>\u001b[0m in \u001b[0;36m<module>\u001b[1;34m\u001b[0m\n\u001b[0;32m      9\u001b[0m \u001b[1;33m\u001b[0m\u001b[0m\n\u001b[0;32m     10\u001b[0m \u001b[0mplt\u001b[0m\u001b[1;33m.\u001b[0m\u001b[0mfigure\u001b[0m\u001b[1;33m(\u001b[0m\u001b[1;33m)\u001b[0m\u001b[1;33m\u001b[0m\u001b[1;33m\u001b[0m\u001b[0m\n\u001b[1;32m---> 11\u001b[1;33m \u001b[0mplt\u001b[0m\u001b[1;33m.\u001b[0m\u001b[0mplot\u001b[0m\u001b[1;33m(\u001b[0m\u001b[0mrange\u001b[0m\u001b[1;33m(\u001b[0m\u001b[0mpoints\u001b[0m\u001b[1;33m)\u001b[0m\u001b[1;33m,\u001b[0m \u001b[0mhistory\u001b[0m\u001b[1;33m[\u001b[0m\u001b[1;33m:\u001b[0m\u001b[1;33m,\u001b[0m \u001b[1;36m1\u001b[0m\u001b[1;33m]\u001b[0m\u001b[1;33m)\u001b[0m\u001b[1;33m\u001b[0m\u001b[1;33m\u001b[0m\u001b[0m\n\u001b[0m\u001b[0;32m     12\u001b[0m \u001b[0mplt\u001b[0m\u001b[1;33m.\u001b[0m\u001b[0mplot\u001b[0m\u001b[1;33m(\u001b[0m\u001b[0mrange\u001b[0m\u001b[1;33m(\u001b[0m\u001b[0mpoints\u001b[0m\u001b[1;33m)\u001b[0m\u001b[1;33m,\u001b[0m \u001b[0mhistory_val\u001b[0m\u001b[1;33m[\u001b[0m\u001b[1;33m:\u001b[0m\u001b[1;33m,\u001b[0m \u001b[1;36m1\u001b[0m\u001b[1;33m]\u001b[0m\u001b[1;33m)\u001b[0m \u001b[1;31m# Need to add val_acc\u001b[0m\u001b[1;33m\u001b[0m\u001b[1;33m\u001b[0m\u001b[0m\n\u001b[0;32m     13\u001b[0m \u001b[0mplt\u001b[0m\u001b[1;33m.\u001b[0m\u001b[0mtitle\u001b[0m\u001b[1;33m(\u001b[0m\u001b[1;34mf'{layers} hidden layers'\u001b[0m\u001b[1;33m)\u001b[0m\u001b[1;33m\u001b[0m\u001b[1;33m\u001b[0m\u001b[0m\n",
      "\u001b[1;32m~\\anaconda3\\lib\\site-packages\\matplotlib\\pyplot.py\u001b[0m in \u001b[0;36mplot\u001b[1;34m(scalex, scaley, data, *args, **kwargs)\u001b[0m\n\u001b[0;32m   2761\u001b[0m     return gca().plot(\n\u001b[0;32m   2762\u001b[0m         *args, scalex=scalex, scaley=scaley, **({\"data\": data} if data\n\u001b[1;32m-> 2763\u001b[1;33m         is not None else {}), **kwargs)\n\u001b[0m\u001b[0;32m   2764\u001b[0m \u001b[1;33m\u001b[0m\u001b[0m\n\u001b[0;32m   2765\u001b[0m \u001b[1;33m\u001b[0m\u001b[0m\n",
      "\u001b[1;32m~\\anaconda3\\lib\\site-packages\\matplotlib\\axes\\_axes.py\u001b[0m in \u001b[0;36mplot\u001b[1;34m(self, scalex, scaley, data, *args, **kwargs)\u001b[0m\n\u001b[0;32m   1645\u001b[0m         \"\"\"\n\u001b[0;32m   1646\u001b[0m         \u001b[0mkwargs\u001b[0m \u001b[1;33m=\u001b[0m \u001b[0mcbook\u001b[0m\u001b[1;33m.\u001b[0m\u001b[0mnormalize_kwargs\u001b[0m\u001b[1;33m(\u001b[0m\u001b[0mkwargs\u001b[0m\u001b[1;33m,\u001b[0m \u001b[0mmlines\u001b[0m\u001b[1;33m.\u001b[0m\u001b[0mLine2D\u001b[0m\u001b[1;33m)\u001b[0m\u001b[1;33m\u001b[0m\u001b[1;33m\u001b[0m\u001b[0m\n\u001b[1;32m-> 1647\u001b[1;33m         \u001b[0mlines\u001b[0m \u001b[1;33m=\u001b[0m \u001b[1;33m[\u001b[0m\u001b[1;33m*\u001b[0m\u001b[0mself\u001b[0m\u001b[1;33m.\u001b[0m\u001b[0m_get_lines\u001b[0m\u001b[1;33m(\u001b[0m\u001b[1;33m*\u001b[0m\u001b[0margs\u001b[0m\u001b[1;33m,\u001b[0m \u001b[0mdata\u001b[0m\u001b[1;33m=\u001b[0m\u001b[0mdata\u001b[0m\u001b[1;33m,\u001b[0m \u001b[1;33m**\u001b[0m\u001b[0mkwargs\u001b[0m\u001b[1;33m)\u001b[0m\u001b[1;33m]\u001b[0m\u001b[1;33m\u001b[0m\u001b[1;33m\u001b[0m\u001b[0m\n\u001b[0m\u001b[0;32m   1648\u001b[0m         \u001b[1;32mfor\u001b[0m \u001b[0mline\u001b[0m \u001b[1;32min\u001b[0m \u001b[0mlines\u001b[0m\u001b[1;33m:\u001b[0m\u001b[1;33m\u001b[0m\u001b[1;33m\u001b[0m\u001b[0m\n\u001b[0;32m   1649\u001b[0m             \u001b[0mself\u001b[0m\u001b[1;33m.\u001b[0m\u001b[0madd_line\u001b[0m\u001b[1;33m(\u001b[0m\u001b[0mline\u001b[0m\u001b[1;33m)\u001b[0m\u001b[1;33m\u001b[0m\u001b[1;33m\u001b[0m\u001b[0m\n",
      "\u001b[1;32m~\\anaconda3\\lib\\site-packages\\matplotlib\\axes\\_base.py\u001b[0m in \u001b[0;36m__call__\u001b[1;34m(self, *args, **kwargs)\u001b[0m\n\u001b[0;32m    214\u001b[0m                 \u001b[0mthis\u001b[0m \u001b[1;33m+=\u001b[0m \u001b[0margs\u001b[0m\u001b[1;33m[\u001b[0m\u001b[1;36m0\u001b[0m\u001b[1;33m]\u001b[0m\u001b[1;33m,\u001b[0m\u001b[1;33m\u001b[0m\u001b[1;33m\u001b[0m\u001b[0m\n\u001b[0;32m    215\u001b[0m                 \u001b[0margs\u001b[0m \u001b[1;33m=\u001b[0m \u001b[0margs\u001b[0m\u001b[1;33m[\u001b[0m\u001b[1;36m1\u001b[0m\u001b[1;33m:\u001b[0m\u001b[1;33m]\u001b[0m\u001b[1;33m\u001b[0m\u001b[1;33m\u001b[0m\u001b[0m\n\u001b[1;32m--> 216\u001b[1;33m             \u001b[1;32myield\u001b[0m \u001b[1;32mfrom\u001b[0m \u001b[0mself\u001b[0m\u001b[1;33m.\u001b[0m\u001b[0m_plot_args\u001b[0m\u001b[1;33m(\u001b[0m\u001b[0mthis\u001b[0m\u001b[1;33m,\u001b[0m \u001b[0mkwargs\u001b[0m\u001b[1;33m)\u001b[0m\u001b[1;33m\u001b[0m\u001b[1;33m\u001b[0m\u001b[0m\n\u001b[0m\u001b[0;32m    217\u001b[0m \u001b[1;33m\u001b[0m\u001b[0m\n\u001b[0;32m    218\u001b[0m     \u001b[1;32mdef\u001b[0m \u001b[0mget_next_color\u001b[0m\u001b[1;33m(\u001b[0m\u001b[0mself\u001b[0m\u001b[1;33m)\u001b[0m\u001b[1;33m:\u001b[0m\u001b[1;33m\u001b[0m\u001b[1;33m\u001b[0m\u001b[0m\n",
      "\u001b[1;32m~\\anaconda3\\lib\\site-packages\\matplotlib\\axes\\_base.py\u001b[0m in \u001b[0;36m_plot_args\u001b[1;34m(self, tup, kwargs)\u001b[0m\n\u001b[0;32m    340\u001b[0m \u001b[1;33m\u001b[0m\u001b[0m\n\u001b[0;32m    341\u001b[0m         \u001b[1;32mif\u001b[0m \u001b[0mx\u001b[0m\u001b[1;33m.\u001b[0m\u001b[0mshape\u001b[0m\u001b[1;33m[\u001b[0m\u001b[1;36m0\u001b[0m\u001b[1;33m]\u001b[0m \u001b[1;33m!=\u001b[0m \u001b[0my\u001b[0m\u001b[1;33m.\u001b[0m\u001b[0mshape\u001b[0m\u001b[1;33m[\u001b[0m\u001b[1;36m0\u001b[0m\u001b[1;33m]\u001b[0m\u001b[1;33m:\u001b[0m\u001b[1;33m\u001b[0m\u001b[1;33m\u001b[0m\u001b[0m\n\u001b[1;32m--> 342\u001b[1;33m             raise ValueError(f\"x and y must have same first dimension, but \"\n\u001b[0m\u001b[0;32m    343\u001b[0m                              f\"have shapes {x.shape} and {y.shape}\")\n\u001b[0;32m    344\u001b[0m         \u001b[1;32mif\u001b[0m \u001b[0mx\u001b[0m\u001b[1;33m.\u001b[0m\u001b[0mndim\u001b[0m \u001b[1;33m>\u001b[0m \u001b[1;36m2\u001b[0m \u001b[1;32mor\u001b[0m \u001b[0my\u001b[0m\u001b[1;33m.\u001b[0m\u001b[0mndim\u001b[0m \u001b[1;33m>\u001b[0m \u001b[1;36m2\u001b[0m\u001b[1;33m:\u001b[0m\u001b[1;33m\u001b[0m\u001b[1;33m\u001b[0m\u001b[0m\n",
      "\u001b[1;31mValueError\u001b[0m: x and y must have same first dimension, but have shapes (120,) and (1,)"
     ]
    },
    {
     "data": {
      "image/png": "[encoded data removed]",
      "text/plain": [
       "<Figure size 432x288 with 1 Axes>"
      ]
     },
     "metadata": {},
     "output_type": "display_data"
    }
   ],
   "source": [
    "layers = 5\n",
    "\n",
    "history = np.array(history)\n",
    "history_val = np.array(history_val)\n",
    "\n",
    "header_train = \"Loss, Accuracy, Val Loss, Val Accuracy\"\n",
    "header_test = \"Test Loss, Test Accuracy\"\n",
    "points = epochs * int(math.ceil(y_train.shape[0] / batch_size) / freq)\n",
    "\n",
    "plt.figure()\n",
    "plt.plot(range(points), history[:, 1])\n",
    "plt.plot(range(points), history_val[:, 1]) # Need to add val_acc\n",
    "plt.title(f'{layers} hidden layers')\n",
    "plt.ylabel('Accuracy')\n",
    "plt.xlabel('Step')\n",
    "plt.legend(['Training accuracy', 'Validation accuracy'])\n",
    "\n",
    "plt.figure()\n",
    "plt.plot(range(points), history[:, 0])\n",
    "plt.plot(range(points), history_val[:, 0]) # Need to add val_loss\n",
    "plt.title(f'{layers} hidden layers')\n",
    "plt.ylabel('Loss')\n",
    "plt.xlabel('Step')\n",
    "plt.legend(['Training loss', 'Validation loss'])"
   ]
  },
  {
   "cell_type": "code",
   "execution_count": 266,
   "metadata": {
    "colab": {
     "base_uri": "https://localhost:8080/",
     "height": 336
    },
    "id": "ynQMXHVeu9ZF",
    "outputId": "815fb0d3-fd81-4bc4-d80a-eef7265e6923"
   },
   "outputs": [
    {
     "name": "stdout",
     "output_type": "stream",
     "text": [
      "[2.51543398 0.94444442]\n"
     ]
    },
    {
     "data": {
      "text/plain": [
       "Text(0.5, 12.5, 'Prediction')"
      ]
     },
     "execution_count": 266,
     "metadata": {},
     "output_type": "execute_result"
    },
    {
     "data": {
      "image/png": "[encoded data removed]",
      "text/plain": [
       "<Figure size 432x288 with 2 Axes>"
      ]
     },
     "metadata": {},
     "output_type": "display_data"
    }
   ],
   "source": [
    "# Test results\n",
    "test_loss, test_acc = evaluate(model, X_test, y_test, propogate_param=(radiation_wavelength, mesh_size_x, mesh_size_y, Nx, Ny, distance))\n",
    "print(np.array([test_loss, test_acc]))\n",
    "          \n",
    "predictions = predict(model, X_test, propogate_param=(radiation_wavelength, mesh_size_x, mesh_size_y, Nx, Ny, distance))\n",
    "conf_matrix = tf.math.confusion_matrix(y_test, predictions)\n",
    "\n",
    "plt.figure()\n",
    "sn.set(font_scale=1) # for label size\n",
    "sn.heatmap(conf_matrix, annot=True, annot_kws={\"size\": 14}) # font size\n",
    "plt.title(f'{layers} hidden layers')\n",
    "plt.ylabel('True label')\n",
    "plt.xlabel('Prediction')"
   ]
  },
  {
   "cell_type": "code",
   "execution_count": 137,
   "metadata": {
    "id": "H01vQu_jRl0c"
   },
   "outputs": [],
   "source": [
    "E_test = data_propogate(X_test, radiation_wavelength, mesh_size_x, mesh_size_y, Nx, Ny, distance)"
   ]
  },
  {
   "cell_type": "code",
   "execution_count": 138,
   "metadata": {
    "colab": {
     "base_uri": "https://localhost:8080/"
    },
    "id": "OkjpZakKDPeX",
    "outputId": "2f92dbbd-1da5-4902-b773-fb98ca906617"
   },
   "outputs": [
    {
     "data": {
      "text/plain": [
       "0"
      ]
     },
     "execution_count": 138,
     "metadata": {},
     "output_type": "execute_result"
    }
   ],
   "source": [
    "np.argmax(evaluate(model, E_test, y_test))"
   ]
  },
  {
   "cell_type": "code",
   "execution_count": 139,
   "metadata": {
    "colab": {
     "base_uri": "https://localhost:8080/",
     "height": 286
    },
    "id": "iM5ddanMW8n9",
    "outputId": "74e79442-c437-440e-9706-efc00f6cc234"
   },
   "outputs": [
    {
     "data": {
      "text/plain": [
       "<matplotlib.image.AxesImage at 0x25ae8412208>"
      ]
     },
     "execution_count": 139,
     "metadata": {},
     "output_type": "execute_result"
    },
    {
     "data": {
      "image/png": "[encoded data removed]",
      "text/plain": [
       "<Figure size 432x288 with 1 Axes>"
      ]
     },
     "metadata": {},
     "output_type": "display_data"
    }
   ],
   "source": [
    "plt.imshow(np.real(E_test[54] * np.conj(E_test[54])), cmap='gray')"
   ]
  },
  {
   "cell_type": "code",
   "execution_count": 240,
   "metadata": {
    "id": "xp9hfbhEW_Mi"
   },
   "outputs": [],
   "source": [
    "prediction = model(E_test[54][None, :, :])"
   ]
  },
  {
   "cell_type": "code",
   "execution_count": 241,
   "metadata": {
    "colab": {
     "base_uri": "https://localhost:8080/",
     "height": 286
    },
    "id": "x_xOY8ZXXDd0",
    "outputId": "009532e4-ef0d-44e9-a65f-de5ecab0e88f"
   },
   "outputs": [
    {
     "data": {
      "text/plain": [
       "<matplotlib.colorbar.Colorbar at 0x25af2b32808>"
      ]
     },
     "execution_count": 241,
     "metadata": {},
     "output_type": "execute_result"
    },
    {
     "data": {
      "image/png": "[encoded data removed]",
      "text/plain": [
       "<Figure size 432x288 with 2 Axes>"
      ]
     },
     "metadata": {},
     "output_type": "display_data"
    }
   ],
   "source": [
    "plt.imshow(tf.reshape(prediction, (34, 34)), cmap='gray', vmin=0, vmax=3)\n",
    "plt.grid(b=None)\n",
    "plt.colorbar()"
   ]
  },
  {
   "cell_type": "code",
   "execution_count": 167,
   "metadata": {
    "colab": {
     "base_uri": "https://localhost:8080/",
     "height": 286
    },
    "id": "_0tDXPtiXFEq",
    "outputId": "95c32c50-f563-4609-8c4f-766d1e84b7c2"
   },
   "outputs": [
    {
     "data": {
      "text/plain": [
       "<matplotlib.image.AxesImage at 0x25aefd148c8>"
      ]
     },
     "execution_count": 167,
     "metadata": {},
     "output_type": "execute_result"
    },
    {
     "data": {
      "image/png": "[encoded data removed]",
      "text/plain": [
       "<Figure size 432x288 with 1 Axes>"
      ]
     },
     "metadata": {},
     "output_type": "display_data"
    }
   ],
   "source": [
    "plt.imshow(ready_y_test[54], cmap='gray')"
   ]
  },
  {
   "cell_type": "code",
   "execution_count": null,
   "metadata": {
    "colab": {
     "base_uri": "https://localhost:8080/"
    },
    "id": "J5RMvWSg4B41",
    "outputId": "3a71ff14-e1ad-43c9-b122-17a38ba11be9"
   },
   "outputs": [],
   "source": [
    "model.weights[0]"
   ]
  },
  {
   "cell_type": "code",
   "execution_count": null,
   "metadata": {
    "id": "t2jyVY-gMv4E"
   },
   "outputs": [],
   "source": [
    "def height_map(weights, wavelength=1*mm, ref_idx=1.7382, att_coef=396.69):\n",
    "\n",
    "    n_air = 1.0003\n",
    "    \n",
    "    # Squashing weights to interval from 0 to pi\n",
    "    squashed_pha = tf.constant(math.pi, dtype=tf.float64) * tf.math.sigmoid(weights)\n",
    "    \n",
    "    # Relationship between phase and thickness of material\n",
    "    height = wavelength * squashed_pha / 2 / tf.constant(math.pi, dtype=tf.float64) / (ref_idx - n_air)\n",
    "\n",
    "    return height"
   ]
  },
  {
   "cell_type": "code",
   "execution_count": null,
   "metadata": {
    "colab": {
     "base_uri": "https://localhost:8080/",
     "height": 286
    },
    "id": "dYC2J9HcO8qe",
    "outputId": "c6135d7d-9154-4026-93e3-f92cdcdfbba5"
   },
   "outputs": [],
   "source": [
    "l1_map = height_map(model.weights[0])\n",
    "plt.imshow(l1_map, cmap='gray')\n",
    "plt.colorbar()"
   ]
  },
  {
   "cell_type": "code",
   "execution_count": null,
   "metadata": {
    "colab": {
     "base_uri": "https://localhost:8080/",
     "height": 286
    },
    "id": "BQxV2Ay5QjeL",
    "outputId": "e0c4caa1-c138-4683-a235-0d26be059f24"
   },
   "outputs": [],
   "source": [
    "l2_map = height_map(model.weights[1])\n",
    "plt.imshow(l2_map, cmap='gray')\n",
    "plt.colorbar()"
   ]
  },
  {
   "cell_type": "code",
   "execution_count": null,
   "metadata": {
    "colab": {
     "base_uri": "https://localhost:8080/",
     "height": 286
    },
    "id": "_VaY5aMr7ch4",
    "outputId": "113f6735-b99c-4997-ff9c-cc0a53d94f85"
   },
   "outputs": [],
   "source": [
    "l5_map = height_map(model.weights[3])\n",
    "plt.imshow(l5_map, cmap=\"cividis\")\n",
    "plt.colorbar()"
   ]
  },
  {
   "cell_type": "code",
   "execution_count": null,
   "metadata": {
    "id": "pH66p_x8ojyt"
   },
   "outputs": [],
   "source": [
    "def create_mesh(weights, base, dist_x, dist_y, Nx, Ny, scale=1*mm, xy_offset=0.5*mm):\n",
    "    # Model point cloud\n",
    "    x_model = np.linspace(0, dist_x / scale -1, Nx) * scale + xy_offset\n",
    "    y_model = np.linspace(0, dist_y / scale -1, Ny) * scale + xy_offset\n",
    "    z_model = (height_map(weights) + base).numpy() # base with thickness of wavelength\n",
    "    \n",
    "    xm, ym = np.meshgrid(x_model, y_model, indexing='ij')\n",
    "    point_cloud_model = np.array([xm, ym, z_model]).T.reshape(-1, 3)\n",
    "    \n",
    "    # Base point cloud\n",
    "    x_base = np.linspace(0, dist_x / scale, Nx+1) * scale\n",
    "    y_base = np.linspace(0, dist_y / scale, Ny+1) * scale\n",
    "    z_base = np.zeros((Nx+1, Ny+1))\n",
    "    \n",
    "    xb, yb = np.meshgrid(x_base, y_base, indexing='ij')\n",
    "    point_cloud_base = np.array([xb, yb, z_base]).T.reshape(-1, 3)\n",
    "    \n",
    "    # Combining model with base\n",
    "    point_cloud = np.concatenate((point_cloud_model, point_cloud_base), axis=0)\n",
    "    \n",
    "    # Creating point cloud in open3d\n",
    "    pcd = o3d.geometry.PointCloud()\n",
    "    pcd.points = o3d.utility.Vector3dVector(point_cloud)\n",
    "\n",
    "    pcd.estimate_normals()\n",
    "    pcd.orient_normals_consistent_tangent_plane(k=15)\n",
    "\n",
    "    poisson_mesh = o3d.geometry.TriangleMesh.create_from_point_cloud_poisson(pcd, depth=8, width=0, scale=1.1, linear_fit=False)[0]\n",
    "    poisson_mesh = o3d.geometry.TriangleMesh.compute_triangle_normals(poisson_mesh)\n",
    "    #o3d.visualization.draw_geometries([pcd])\n",
    "    return pcd"
   ]
  },
  {
   "cell_type": "code",
   "execution_count": null,
   "metadata": {
    "id": "bbGb_9IAfKEu"
   },
   "outputs": [],
   "source": [
    "def lod_mesh_export(mesh, lods, extension, path):\n",
    "    mesh_lods={}\n",
    "    for i in lods:\n",
    "        mesh_lod = mesh.simplify_quadric_decimation(i)\n",
    "        o3d.io.write_triangle_mesh(path+\"lod_\"+str(i)+extension, mesh_lod)\n",
    "        mesh_lods[i]=mesh_lod\n",
    "    print(\"generation of \"+str(i)+\" LoD successful\")\n",
    "    return mesh_lods"
   ]
  },
  {
   "cell_type": "code",
   "execution_count": null,
   "metadata": {
    "id": "ZQt_ZXGgfMNV"
   },
   "outputs": [],
   "source": [
    "def save_layers(model, folder, scale=1*mm):\n",
    "    path = os.getcwd() + r\"/\" + folder\n",
    "    if not os.path.exists(path):\n",
    "        os.mkdir(path)\n",
    "\n",
    "    for layer in tqdm(range(len(model.weights))):\n",
    "        p_mesh = create_mesh_square(model.weights[layer], 1*mm, model.extent_x, model.extent_y, Nx, Ny, scale=scale, step=0.0625*mm, n_repeats=16, frame=(4*mm, 4*mm)) # extent needs to be integer\n",
    "        o3d.io.write_triangle_mesh(filename=path+r\"/layer{}.stl\".format(layer), mesh=p_mesh, print_progress=False)"
   ]
  },
  {
   "cell_type": "code",
   "execution_count": null,
   "metadata": {
    "id": "cdT5TKxp8jCk"
   },
   "outputs": [],
   "source": [
    "def create_mesh_test(weights, base, dist_x, dist_y, Nx, Ny, scale=1*mm):\n",
    "    weights = 1 - weights # flipping 1 and 0\n",
    "    x = np.linspace(0, dist_x / scale -1, Nx) * scale\n",
    "    y = np.linspace(0, dist_y / scale -1, Ny) * scale\n",
    "    z = weights * base # base with thickness of wavelength\n",
    "\n",
    "    xv, yv = np.meshgrid(x, y, indexing='ij')\n",
    "    point_cloud = np.array([xv, yv, z]).T.reshape(-1, 3)\n",
    "\n",
    "    pcd = o3d.geometry.PointCloud()\n",
    "    pcd.points = o3d.utility.Vector3dVector(point_cloud)\n",
    "\n",
    "    pcd.estimate_normals()\n",
    "    pcd.orient_normals_consistent_tangent_plane(k=15)\n",
    "    \n",
    "    poisson_mesh = o3d.geometry.TriangleMesh.create_from_point_cloud_poisson(pcd, depth=8, width=0, scale=1.1, linear_fit=False)[0]\n",
    "    poisson_mesh = o3d.geometry.TriangleMesh.compute_triangle_normals(poisson_mesh)\n",
    "    return pcd"
   ]
  },
  {
   "cell_type": "code",
   "execution_count": null,
   "metadata": {
    "id": "nKeB65_b5cCS"
   },
   "outputs": [],
   "source": [
    "def save_tests(model, X_test, folder, scale=1*mm):\n",
    "    path = os.getcwd() + r\"/\" + folder\n",
    "    if not os.path.exists(path):\n",
    "        os.mkdir(path)\n",
    "\n",
    "    for sample in tqdm(range(len(X_test))):\n",
    "        p_mesh = create_mesh_test(X_test[sample], model.wavelength, model.extent_x, model.extent_y, Nx, Ny, scale=scale) # extent needs to be integer\n",
    "        o3d.io.write_triangle_mesh(filename=path+r\"/sample{}.stl\".format(sample), mesh=p_mesh, print_progress=False)"
   ]
  },
  {
   "cell_type": "code",
   "execution_count": null,
   "metadata": {
    "colab": {
     "base_uri": "https://localhost:8080/"
    },
    "id": "vptxRZm1jEuk",
    "outputId": "5edb7565-cb4b-465a-cfd7-e1246588a528"
   },
   "outputs": [],
   "source": [
    "save_layers(model, \"layers\", scale=1*mm)"
   ]
  },
  {
   "cell_type": "code",
   "execution_count": null,
   "metadata": {
    "colab": {
     "base_uri": "https://localhost:8080/",
     "height": 328
    },
    "id": "Q4WXUne5x-aC",
    "outputId": "f3570844-4649-4084-837b-21ff023cad1d",
    "scrolled": true
   },
   "outputs": [],
   "source": [
    "save_tests(model, X_test, \"samples\", scale=1*mm)"
   ]
  },
  {
   "cell_type": "markdown",
   "metadata": {},
   "source": [
    "# Complicated function to create layers in stl format"
   ]
  },
  {
   "cell_type": "code",
   "execution_count": null,
   "metadata": {
    "id": "KuoGNqar7yRw"
   },
   "outputs": [],
   "source": [
    "p_mesh = create_mesh_test(X_test[0], model.wavelength, model.extent_x, model.extent_y, Nx, Ny, scale=1*mm) # extent needs to be integer\n",
    "p_mesh"
   ]
  },
  {
   "cell_type": "code",
   "execution_count": null,
   "metadata": {},
   "outputs": [],
   "source": [
    "def extra_pcd(shape, offset, dist_x, dist_y, steps, scale=1*mm, frame=(0, 0)):\n",
    "    point_cloud = []\n",
    "    normals = []\n",
    "    for height in np.linspace(offset/steps, offset, steps):\n",
    "        x_base_e = np.linspace(0, (dist_x+frame[0]) / scale, shape[0]) * scale\n",
    "        y_base_e = np.linspace(0, (dist_y+frame[1]) / scale, shape[1]) * scale\n",
    "        z_base_e = np.ones(shape) * height\n",
    "        z_base_e[1:-1,1:-1] = 0 # could use np.pad() but whatevs\n",
    "\n",
    "        xbe, ybe = np.meshgrid(x_base_e, y_base_e, indexing='ij')\n",
    "        point_cloud_base_e = np.array([xbe, ybe, z_base_e]).reshape(3, -1).T\n",
    "        point_cloud_base_e = point_cloud_base_e[point_cloud_base_e[:, 2]!=0]\n",
    "\n",
    "        # Doing hypothesis that layer is a square and shape[0] = shape[1]\n",
    "        extra_normals_1 = np.tile([-1, 0, 0], shape[0]).reshape(-1, 3)\n",
    "        extra_normals_2 = np.tile([[0, -1, 0, 0, 1, 0]], shape[0] - 2).reshape(-1, 3)\n",
    "        extra_normals_3 = np.tile([1, 0, 0], shape[0]).reshape(-1, 3)\n",
    "        extra_normals = np.concatenate((extra_normals_1, extra_normals_2, extra_normals_3), axis=0)\n",
    "    \n",
    "        point_cloud.append(point_cloud_base_e)\n",
    "        normals.append(extra_normals)\n",
    "\n",
    "    return np.vstack(point_cloud), np.vstack(normals)"
   ]
  },
  {
   "cell_type": "code",
   "execution_count": null,
   "metadata": {
    "id": "EZwRV0Rt-xrh",
    "scrolled": true
   },
   "outputs": [],
   "source": [
    "def create_layers_mesh(weights, base, dist_x, dist_y, Nx, Ny, scale=1*mm):\n",
    "\n",
    "    # Model point cloud\n",
    "    x_model = np.linspace(0, dist_x / (scale) -1, Nx) * (scale)\n",
    "    y_model = np.linspace(0, dist_y / (scale) -1, Ny) * (scale)\n",
    "    z_model = (height_map(weights) + base).numpy()\n",
    "\n",
    "    xm, ym = np.meshgrid(x_model, y_model, indexing='ij')\n",
    "    point_cloud_model = np.array([xm, ym, z_model]).T.reshape(-1, 3)\n",
    "\n",
    "    # Base point cloud\n",
    "    x_base = np.linspace(0, dist_x / (scale) -1, Nx) * (scale)\n",
    "    y_base = np.linspace(0, dist_y / (scale) -1, Ny) * (scale)\n",
    "    z_base = np.zeros(z_model.shape)\n",
    "\n",
    "    xb, yb = np.meshgrid(x_base, y_base, indexing='ij')\n",
    "    point_cloud_base = np.array([xb, yb, z_base]).T.reshape(-1, 3)\n",
    "\n",
    "    # Extra Base point cloud\n",
    "    point_cloud_base_e, extra_normals = extra_pcd(z_model.shape, 0.5*mm, 14*mm, 14*mm, 14, 14, scale=1*mm)\n",
    "    # Extra extra Base point cloud\n",
    "    point_cloud_base_e_e, extra_extra_normals = extra_pcd(z_model.shape, 1*mm, 14*mm, 14*mm, 14, 14, scale=1*mm)\n",
    "\n",
    "    # Combining base and model points\n",
    "    point_cloud = np.concatenate((point_cloud_model, point_cloud_base, point_cloud_base_e, point_cloud_base_e_e), axis=0)\n",
    "\n",
    "    # base normals\n",
    "    base_normals = np.tile([0, 0, -1], point_cloud_base.shape[0]).reshape(-1, 3)\n",
    "\n",
    "    # model normals\n",
    "    model_normals = np.tile([0, 0, 1], point_cloud_model.shape[0]).reshape(-1, 3)\n",
    "\n",
    "    normals = np.concatenate((model_normals, base_normals, extra_normals, extra_extra_normals), axis=0)\n",
    "\n",
    "    pcd = o3d.geometry.PointCloud()\n",
    "    pcd.points = o3d.utility.Vector3dVector(point_cloud)\n",
    "    pcd.normals = o3d.utility.Vector3dVector(normals)\n",
    "\n",
    "    mesh, densities = o3d.geometry.TriangleMesh.create_from_point_cloud_poisson(pcd,\n",
    "                                                                             depth=8,\n",
    "                                                                             width=0,\n",
    "                                                                             scale=1.1,\n",
    "                                                                             linear_fit=False)\n",
    "    mesh = o3d.geometry.TriangleMesh.compute_triangle_normals(mesh)\n",
    "\n",
    "    #o3d.visualization.draw_geometries([pcd])\n",
    "    return mesh"
   ]
  },
  {
   "cell_type": "code",
   "execution_count": null,
   "metadata": {},
   "outputs": [],
   "source": [
    "print('visualize densities')\n",
    "densities = np.asarray(densities)\n",
    "density_colors = plt.get_cmap('plasma')(\n",
    "    (densities - densities.min()) / (densities.max() - densities.min()))\n",
    "density_colors = density_colors[:, :3]\n",
    "density_mesh = o3d.geometry.TriangleMesh()\n",
    "density_mesh.vertices = mesh.vertices\n",
    "density_mesh.triangles = mesh.triangles\n",
    "density_mesh.triangle_normals = mesh.triangle_normals\n",
    "density_mesh.vertex_colors = o3d.utility.Vector3dVector(density_colors)\n",
    "o3d.visualization.draw_geometries([density_mesh])"
   ]
  },
  {
   "cell_type": "code",
   "execution_count": null,
   "metadata": {},
   "outputs": [],
   "source": [
    "def create_mesh_square(weights, base, dist_x, dist_y, Nx, Ny, scale=1*mm, step=0.1*mm, n_repeats=15, frame=(0, 0)):\n",
    "    # Model point cloud\n",
    "    x_model = np.arange(frame[0]/2, dist_x+frame[0]/2, step)\n",
    "    x_model[-1] += step\n",
    "    y_model = np.arange(frame[1]/2, dist_y+frame[1]/2, step)\n",
    "    y_model[-1] += step\n",
    "    z_model = (height_map(weights) + base).numpy() # base with thickness of wavelength\n",
    "    z_model = np.repeat(z_model,  n_repeats, axis=1) # Repeating over x axis\n",
    "    z_model = np.repeat(z_model,  n_repeats, axis=0) # Repeating over y axis\n",
    "    \n",
    "    xm, ym = np.meshgrid(x_model, y_model, indexing='ij')\n",
    "    point_cloud_model = np.array([ym, xm, z_model]).reshape(3, -1).T\n",
    "    \n",
    "    # Base point cloud\n",
    "    x_base = np.linspace(0, (dist_x + frame[0]) / (scale), x_model.shape[0]) * (scale)\n",
    "    y_base = np.linspace(0, (dist_y + frame[1]) / (scale), y_model.shape[0]) * (scale)\n",
    "    z_base = np.zeros(z_model.shape)\n",
    "\n",
    "    xb, yb = np.meshgrid(x_base, y_base, indexing='ij')\n",
    "    point_cloud_base = np.array([xb, yb, z_base]).reshape(3, -1).T\n",
    "\n",
    "    # Extra Base point cloud\n",
    "    point_cloud_base_e, extra_normals = extra_pcd(z_model.shape, 1*mm, 14*mm, 14*mm, scale=1*mm, steps=20, frame=frame)\n",
    "    \n",
    "    # Frame base\n",
    "    x_frame_base = np.linspace(0, (dist_x + frame[0]) / (scale), x_model.shape[0]) * (scale)\n",
    "    y_frame_base = np.linspace(0, (dist_y + frame[1]) / (scale), y_model.shape[0]) * (scale)\n",
    "    z_frame_base = np.zeros(z_model.shape) + base\n",
    "\n",
    "    xfb, yfb = np.meshgrid(x_frame_base, y_frame_base, indexing='ij')\n",
    "    point_cloud_frame_base = np.array([xfb, yfb, z_frame_base]).reshape(3, -1).T\n",
    "\n",
    "    frame_point = (point_cloud_frame_base[:, 0] < frame[0]/2) | (point_cloud_frame_base[:, 0] > dist_x+frame[0]/2) | (point_cloud_frame_base[:, 1] < frame[1]/2) | (point_cloud_frame_base[:, 1] > dist_y+frame[1]/2)\n",
    "    point_cloud_frame_base = point_cloud_frame_base[frame_point]\n",
    "    bottom = np.where((point_cloud_frame_base[:, 1] < frame[1]/4) & (point_cloud_frame_base[:, 1] > frame[1]/8))\n",
    "    point_cloud_frame_base[bottom, 2]=base / 1.5\n",
    "    \n",
    "    # Combining base and model points\n",
    "    point_cloud = np.concatenate((point_cloud_model, point_cloud_base, point_cloud_base_e, point_cloud_frame_base), axis=0)\n",
    "\n",
    "    # base normals\n",
    "    base_normals = np.tile([0, 0, -1], point_cloud_base.shape[0]).reshape(-1, 3)\n",
    "    \n",
    "    # base normals\n",
    "    frame_base_normals = np.tile([0, 0, 1], point_cloud_frame_base.shape[0]).reshape(-1, 3)\n",
    "\n",
    "    # model normals\n",
    "    model_normals = np.tile([0, 0, 1], point_cloud_model.shape[0]).reshape(-1, 3)\n",
    "\n",
    "    normals = np.concatenate((model_normals, base_normals, extra_normals, frame_base_normals), axis=0)\n",
    "    \n",
    "    # Creating point cloud in open3d\n",
    "    pcd = o3d.geometry.PointCloud()\n",
    "    pcd.points = o3d.utility.Vector3dVector(point_cloud)\n",
    "\n",
    "    pcd.normals = o3d.utility.Vector3dVector(normals)\n",
    "#     pcd.estimate_normals()\n",
    "#     pcd.orient_normals_consistent_tangent_plane(k=15)\n",
    "\n",
    "\n",
    "    poisson_mesh = o3d.geometry.TriangleMesh.create_from_point_cloud_poisson(pcd,\n",
    "                                                                             depth=9,\n",
    "                                                                             width=0,\n",
    "                                                                             scale=1.1, linear_fit=False)[0]\n",
    "    poisson_mesh = o3d.geometry.TriangleMesh.compute_triangle_normals(poisson_mesh)\n",
    "#     o3d.visualization.draw_geometries([pcd])\n",
    "    return poisson_mesh"
   ]
  },
  {
   "cell_type": "code",
   "execution_count": null,
   "metadata": {},
   "outputs": [],
   "source": [
    "p_mesh = create_mesh_square(model.weights[0], 1*mm, model.extent_x, model.extent_y, Nx, Ny, scale=1*mm, step=0.05*mm, n_repeats=20, frame=(4*mm, 4*mm))"
   ]
  },
  {
   "cell_type": "code",
   "execution_count": null,
   "metadata": {},
   "outputs": [],
   "source": [
    "path = os.getcwd()\n",
    "o3d.io.write_triangle_mesh(filename=path+r\"/layer0.stl\", mesh=p_mesh, print_progress=False)"
   ]
  },
  {
   "cell_type": "code",
   "execution_count": 36,
   "metadata": {},
   "outputs": [],
   "source": [
    "pcd = o3d.io.read_point_cloud(r\"C:\\Users\\Laurynas\\Desktop\\layer0.ply\")"
   ]
  },
  {
   "cell_type": "code",
   "execution_count": 39,
   "metadata": {},
   "outputs": [],
   "source": [
    "o3d.visualization.draw_geometries([pcd])"
   ]
  },
  {
   "cell_type": "code",
   "execution_count": null,
   "metadata": {},
   "outputs": [],
   "source": []
  }
 ],
 "metadata": {
  "colab": {
   "collapsed_sections": [],
   "name": "DDNN pagerintas.ipynb",
   "provenance": []
  },
  "kernelspec": {
   "display_name": "Python 3",
   "language": "python",
   "name": "python3"
  },
  "language_info": {
   "codemirror_mode": {
    "name": "ipython",
    "version": 3
   },
   "file_extension": ".py",
   "mimetype": "text/x-python",
   "name": "python",
   "nbconvert_exporter": "python",
   "pygments_lexer": "ipython3",
   "version": "3.7.7"
  }
 },
 "nbformat": 4,
 "nbformat_minor": 1
}
